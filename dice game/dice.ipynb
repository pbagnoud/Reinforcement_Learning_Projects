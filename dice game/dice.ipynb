{
 "cells": [
  {
   "cell_type": "markdown",
   "metadata": {},
   "source": [
    "# Project: The Dice game\n",
    "We do a project in dynamic programming: We are going to create a dice game. This will be a \"beat the dealer\" type of game. The deal has a die with value (25,26,27,28,29,30,30). The player score start at 0. Each time the player must choose between increasing its score - but they risk losing if its score is strictly bigger than 30 - or confront the dealer - with a 1x,2x or 3x factor. If the player want to increase its score, then they choose between rolling one or two dice with sides (1,2,3,4,5,6,6). \n",
    "| Situation | Reward | \n",
    "| --- | --- | \n",
    "| choosing to roll 1/2 dice| -1/-2 CHF |\n",
    "| rolling a double| +10 CHF |\n",
    "| having a score bigger than 30| -10 CHF |\n",
    "| confront the dealer| (Player score - Dealer die) CHF |\n",
    "\n",
    "We will implement this game, then evaluate several policies and find an optimal policy."
   ]
  },
  {
   "cell_type": "markdown",
   "metadata": {},
   "source": [
    "## Implementation"
   ]
  },
  {
   "cell_type": "markdown",
   "metadata": {},
   "source": [
    "The states will correspond to the numbers 0 to 31, with 31 being treated as the terminal state of our game.\n",
    "\n",
    " The action will be the following\n",
    "|symbole| name | description|\n",
    "|-------|------|------------|\n",
    "|S|single| roll a single die|\n",
    "|D|double| roll two dice|\n",
    "|1|confront1| confront the dealer with factor 1|\n",
    "|2|confront2| confront the dealer with factor 2|\n",
    "|3|confront3| confront the dealer with factor 3|"
   ]
  },
  {
   "cell_type": "markdown",
   "metadata": {},
   "source": [
    "We start by importing the libraries and defining the constants."
   ]
  },
  {
   "cell_type": "code",
   "execution_count": 4,
   "metadata": {},
   "outputs": [],
   "source": [
    "import numpy as np\n",
    "import random\n",
    "import matplotlib.pyplot as plt\n",
    "from termcolor import colored\n",
    "ACTIVE_STATES = range(31)\n",
    "ACTIONS = [\"single\", \"double\", \"confront1\", \"confront2\", \"confront3\"]\n",
    "ACTIONS_SYMBOLS = [\"s\", \"d\", \"1\", \"2\", \"3\"]\n",
    "DIE_DEALER = [25,26,27,28,29,30,30]\n",
    "DIE_PLAYER = [1,2,3,4,5,6,6]\n",
    "GAMMA = 1\n",
    "THETA = 1e-4"
   ]
  },
  {
   "cell_type": "markdown",
   "metadata": {},
   "source": [
    "We create a class '''DiceGame''' with no parameters. It handles the game logic and the action evaluation."
   ]
  },
  {
   "cell_type": "code",
   "execution_count": 5,
   "metadata": {},
   "outputs": [],
   "source": [
    "class DiceGame:\n",
    "    def __init__(self):\n",
    "        self.playerScore = 0\n",
    "\n",
    "    # utility function\n",
    "    def checkScoreOutOfBounds(self, state):\n",
    "        if state in ACTIVE_STATES:\n",
    "            penality = 0\n",
    "        else:\n",
    "            penality = -10\n",
    "            state = 31\n",
    "        return state, penality\n",
    "    \n",
    "    ### play the game\n",
    "    def step(self, action, state=None):\n",
    "        if state is None:\n",
    "            state = self.playerScore\n",
    "        if state == 31:\n",
    "            reward= 0\n",
    "            return state, reward\n",
    "        if not (action in ACTIONS):\n",
    "            raise Exception(\"Invalid action\")\n",
    "        if not (state in ACTIVE_STATES):\n",
    "            raise Exception(\"Invalid state\")\n",
    "        \n",
    "        if action == \"single\":\n",
    "            reward = -1\n",
    "            state += random.choice(DIE_PLAYER)\n",
    "            state, penality = self.checkScoreOutOfBounds(state)\n",
    "            reward += penality\n",
    "        elif action == \"double\":\n",
    "            reward = -2\n",
    "            die1 = random.choice(DIE_PLAYER)\n",
    "            die2 = random.choice(DIE_PLAYER)\n",
    "            if die1 == die2:\n",
    "                reward += 10\n",
    "            state += die1 + die2\n",
    "            state, penality = self.checkScoreOutOfBounds(state)\n",
    "            reward += penality\n",
    "        else:\n",
    "            factor = int(action[-1])\n",
    "            dieDealer = random.choice(DIE_DEALER)\n",
    "            reward = (state-dieDealer) * factor\n",
    "            state = 31\n",
    "        return state, reward\n",
    "    \n",
    "    def reset(self,start=0):\n",
    "        self.playerScore = start\n",
    "    \n",
    "    ### evaluate the action\n",
    "    def evalAction(self, action, state, value):\n",
    "        expectation = 0\n",
    "        if state == 31:\n",
    "            return expectation\n",
    "        if not (action in ACTIONS):\n",
    "            print(action)\n",
    "            raise Exception(\"Invalid action\")\n",
    "        if not (state in ACTIVE_STATES):\n",
    "            print(state)\n",
    "            raise Exception(\"Invalid state\")\n",
    "        \n",
    "        if action == \"single\":\n",
    "            reward = -1\n",
    "            for result in DIE_PLAYER:\n",
    "                resultState = state + result\n",
    "                resultState, penality = self.checkScoreOutOfBounds(resultState)\n",
    "                reward += penality/len(DIE_PLAYER)\n",
    "                expectation += value[resultState]/len(DIE_PLAYER)\n",
    "\n",
    "        elif action == \"double\":\n",
    "            reward = -2\n",
    "            for result1 in DIE_PLAYER:\n",
    "                for result2 in DIE_PLAYER:\n",
    "                    if result1 == result2:\n",
    "                        reward += 10/len(DIE_PLAYER)**2\n",
    "                    resultState = state + result1 + result2\n",
    "                    resultState, penality = self.checkScoreOutOfBounds(resultState)\n",
    "                    reward += penality/len(DIE_PLAYER)**2\n",
    "                    expectation += value[resultState]/len(DIE_PLAYER)**2\n",
    "        else:\n",
    "            reward=0\n",
    "            factor = int(action[-1])\n",
    "            for resultDealer in DIE_DEALER:\n",
    "                reward += (state-resultDealer) * factor/len(DIE_DEALER)\n",
    "           \n",
    "        return reward + GAMMA * expectation\n",
    "\n"
   ]
  },
  {
   "cell_type": "markdown",
   "metadata": {},
   "source": [
    "We intentiate our class"
   ]
  },
  {
   "cell_type": "code",
   "execution_count": 6,
   "metadata": {},
   "outputs": [],
   "source": [
    "game = DiceGame()"
   ]
  },
  {
   "cell_type": "markdown",
   "metadata": {},
   "source": [
    "We define 3 policies. Those are list containing the list of all actions possible at given state. If the list of action has length greater than 1, the action will be chosen uniformly. Our goal will be to evaluate them."
   ]
  },
  {
   "cell_type": "code",
   "execution_count": 7,
   "metadata": {},
   "outputs": [],
   "source": [
    "policy1=[[\"single\"]]*len(ACTIVE_STATES)\n",
    "policy2=[[\"double\"]]*len(ACTIVE_STATES)\n",
    "policy3=[[\"single\",\"double\"]]*20 + [[\"confront1\",\"confront2\",\"confront3\"]]*(len(ACTIVE_STATES)-20)"
   ]
  },
  {
   "cell_type": "markdown",
   "metadata": {},
   "source": [
    "We define a function to print the policies nicely. It can handle the stochastic policies by choosing randomly one action. It prints a warning in this case."
   ]
  },
  {
   "cell_type": "code",
   "execution_count": 8,
   "metadata": {},
   "outputs": [],
   "source": [
    "def showPolicy(policy):\n",
    "    printWarning=False\n",
    "    for action in policy:\n",
    "        if len(action) > 1:\n",
    "            printWarning=True\n",
    "        print(ACTIONS_SYMBOLS[ACTIONS.index(random.choice(action))], end=\" \")\n",
    "    if printWarning:\n",
    "        print(colored(\"\\n \\nWARNING: policy is non-deterministic and have more than one action per state.\",\"red\"))\n"
   ]
  },
  {
   "cell_type": "code",
   "execution_count": 9,
   "metadata": {},
   "outputs": [
    {
     "name": "stdout",
     "output_type": "stream",
     "text": [
      "s s s s s s s s s s s s s s s s s s s s s s s s s s s s s s s "
     ]
    }
   ],
   "source": [
    "showPolicy(policy1)"
   ]
  },
  {
   "cell_type": "code",
   "execution_count": 10,
   "metadata": {},
   "outputs": [
    {
     "name": "stdout",
     "output_type": "stream",
     "text": [
      "d s d d d s d d d s d d d d s d s d d s 3 3 3 2 2 2 2 2 1 3 1 \u001b[31m\n",
      " \n",
      "WARNING: policy is non-deterministic and have more than one action per state.\u001b[0m\n"
     ]
    }
   ],
   "source": [
    "showPolicy(policy3)"
   ]
  },
  {
   "cell_type": "markdown",
   "metadata": {},
   "source": [
    "We implement the policy evaluation algorithm."
   ]
  },
  {
   "cell_type": "code",
   "execution_count": 11,
   "metadata": {},
   "outputs": [],
   "source": [
    "def policyEvaluation(policy, env):\n",
    "    length = len(ACTIVE_STATES)+1\n",
    "    values = [0]*length\n",
    "    delta = float('inf')\n",
    "    while delta > THETA:\n",
    "        newValues = [0]*length\n",
    "        for s in ACTIVE_STATES:\n",
    "            for a in policy[s]:\n",
    "                newValues[s] += env.evalAction(a,s,values)/len(policy[s])\n",
    "        delta = max([abs(values[s] - newValues[s]) for s in ACTIVE_STATES]) \n",
    "        values = newValues.copy()\n",
    "    return values\n"
   ]
  },
  {
   "cell_type": "markdown",
   "metadata": {},
   "source": [
    "We evaluate our policies."
   ]
  },
  {
   "cell_type": "code",
   "execution_count": 12,
   "metadata": {},
   "outputs": [],
   "source": [
    "values1 = policyEvaluation(policy1,game)\n",
    "values2 = policyEvaluation(policy2,game)\n",
    "values3 = policyEvaluation(policy3,game)"
   ]
  },
  {
   "cell_type": "markdown",
   "metadata": {},
   "source": [
    "Then, we plot all of them in a graph to compare them."
   ]
  },
  {
   "cell_type": "code",
   "execution_count": 15,
   "metadata": {},
   "outputs": [
    {
     "data": {
      "image/png": "[encoded data removed]",
      "text/plain": [
       "<Figure size 640x480 with 1 Axes>"
      ]
     },
     "metadata": {},
     "output_type": "display_data"
    }
   ],
   "source": [
    "plt.plot(values1[:-1])\n",
    "plt.plot(values2[:-1])\n",
    "plt.plot(values3[:-1])\n",
    "plt.title(\"Policy Evalutation\")\n",
    "plt.legend(['policy1','policy2','policy3'])\n",
    "plt.show()"
   ]
  },
  {
   "cell_type": "markdown",
   "metadata": {},
   "source": [
    "None of the policy are particularly great. Of course, policy 2 is better than policy 1, because we have actually a chance to gain a reward by making a double.\n",
    "\n",
    "Now, we will try to do better by finding an optimal policy. We could implement the policy iteration algorithm or value iteration algorithm. We are going with the latter."
   ]
  },
  {
   "cell_type": "code",
   "execution_count": 16,
   "metadata": {},
   "outputs": [],
   "source": [
    "def valuesIteration(env):\n",
    "    length = len(ACTIVE_STATES)+1\n",
    "    values = [0]*length\n",
    "    delta = float('inf')\n",
    "    while delta > THETA:\n",
    "        newValues = [0]*length\n",
    "        for s in ACTIVE_STATES:\n",
    "            evaluatedAction = [env.evalAction(a,s,values) for a in ACTIONS]\n",
    "            newValues[s] = max(evaluatedAction)\n",
    "        delta = max([abs(values[s] - newValues[s]) for s in ACTIVE_STATES]) \n",
    "        values = newValues.copy()\n",
    "    return values"
   ]
  },
  {
   "cell_type": "markdown",
   "metadata": {},
   "source": [
    "We still new to implement the policy improvement, in order to define a policy from our values."
   ]
  },
  {
   "cell_type": "code",
   "execution_count": 17,
   "metadata": {},
   "outputs": [],
   "source": [
    "def policyImprovement(values,env):\n",
    "    policy=[]\n",
    "    for s in ACTIVE_STATES:\n",
    "        evaluatedAction = [env.evalAction(a,s,values) for a in ACTIONS]\n",
    "        bestAction = ACTIONS[np.argmax(evaluatedAction)]\n",
    "        policy.append([bestAction])\n",
    "    return policy"
   ]
  },
  {
   "cell_type": "markdown",
   "metadata": {},
   "source": [
    "We then put everything together to find the optimal policy, and the associated values."
   ]
  },
  {
   "cell_type": "code",
   "execution_count": 18,
   "metadata": {},
   "outputs": [
    {
     "name": "stdout",
     "output_type": "stream",
     "text": [
      "[-1.453370939889808, -1.441383444026803, -1.4367938851718378, -1.4330841107578784, -1.4231183096342936, -1.3927077974269781, -1.3283841201053868, -1.2890550091209005, -1.2546059328671049, -1.2619871722783045, -1.2617073222520327, -1.22121888330913, -1.142502993311638, -1.3235969382360762, -1.3794706836983408, -1.3357593097746163, -1.1891881487590839, -0.8469882612617856, -0.3340521951358648, -0.8585701397151436, -1.2388582016968148, -1.8671641917908346, -1.6694829535312667, -0.6572261557684299, 0.6034985422740522, -2.775510204081633, -1.857142857142857, -0.8571428571428571, 0.4285714285714285, 3.428571428571429, 6.428571428571428, 0]\n",
      "d d d d d d d d d d d d d d d d d d d d d d s s s s 1 1 3 3 3 "
     ]
    }
   ],
   "source": [
    "iterativeValues = valuesIteration(game)\n",
    "print(iterativeValues)\n",
    "optimalPolicy = policyImprovement(iterativeValues,game)\n",
    "showPolicy(optimalPolicy)\n",
    "optimalValues = policyEvaluation(optimalPolicy,game)"
   ]
  },
  {
   "cell_type": "markdown",
   "metadata": {},
   "source": [
    "The strategy seems coherent: we start by rolling the dices two by two, until it is too risky to continue. Then we roll the dices one by one. At score 26 and 27, it is less costly to confront the dealer, even with more chance to lose than to win, than trying to roll a die to improve our score. In this situation, we want to have a factor 1, because we want to minimize the losses. Then, if our score is 28,29 or 30, we have a positive expectation. We then choose a factor 3 to maximize the gain.\n",
    "\n",
    "We plot the values of the optimal strategy:"
   ]
  },
  {
   "cell_type": "code",
   "execution_count": 19,
   "metadata": {},
   "outputs": [
    {
     "data": {
      "image/png": "[encoded data removed]",
      "text/plain": [
       "<Figure size 640x480 with 1 Axes>"
      ]
     },
     "metadata": {},
     "output_type": "display_data"
    }
   ],
   "source": [
    "plt.plot(optimalValues[:-1])\n",
    "plt.title('Values for the optimal policy')\n",
    "plt.show()"
   ]
  },
  {
   "cell_type": "markdown",
   "metadata": {},
   "source": [
    "We see with this graph that this policy is much better than the 3 others. However, we start with expectation around -2, which indicates that it isn't a game worth playing."
   ]
  },
  {
   "cell_type": "markdown",
   "metadata": {},
   "source": [
    "## Bonus: Monte Carlo"
   ]
  },
  {
   "cell_type": "markdown",
   "metadata": {},
   "source": [
    "We start to implement a single game for given policy."
   ]
  },
  {
   "cell_type": "code",
   "execution_count": 23,
   "metadata": {},
   "outputs": [],
   "source": [
    "def playGame(policy,env:DiceGame,start=0):\n",
    "    env.reset(min(start,31))\n",
    "    reward=0\n",
    "    while env.playerScore in ACTIVE_STATES:\n",
    "        action = random.choice(policy[env.playerScore])\n",
    "        env.playerScore,stepReward= env.step(action)\n",
    "        reward+=stepReward\n",
    "    return reward"
   ]
  },
  {
   "cell_type": "code",
   "execution_count": 24,
   "metadata": {},
   "outputs": [],
   "source": [
    "def iterateGames(policy,env,n_games,start=0):\n",
    "    mean = 0\n",
    "    for k in range(n_games):\n",
    "        mean += (playGame(policy,env,start)-mean)/(k+1)\n",
    "    return mean"
   ]
  },
  {
   "cell_type": "markdown",
   "metadata": {},
   "source": [
    "We can then estimate the mean using Monte-Carlo"
   ]
  },
  {
   "cell_type": "code",
   "execution_count": 25,
   "metadata": {},
   "outputs": [
    {
     "name": "stdout",
     "output_type": "stream",
     "text": [
      "Estimation with Monte Carlo:  -18.513599999999975  and computation with policy evaluation:  -18.517415750104878  error:  0.0038157501049020937\n",
      "Estimation with Monte Carlo:  -10.77539999999999  and computation with policy evaluation:  -10.73633883281023  error:  0.03906116718976094\n",
      "Estimation with Monte Carlo:  -11.809799999999981  and computation with policy evaluation:  -11.8738612027766  error:  0.0640612027766192\n",
      "Estimation with Monte Carlo:  -1.5334000000000036  and computation with policy evaluation:  -1.4533694471274117  error:  0.08003055287259198\n"
     ]
    }
   ],
   "source": [
    "mean1=iterateGames(policy1,game,10000)\n",
    "mean2=iterateGames(policy2,game,10000)\n",
    "mean3=iterateGames(policy3,game,10000)\n",
    "meanOptimal=iterateGames(optimalPolicy,game,10000)\n",
    "for mcMean, vMean in zip([mean1,mean2,mean3,meanOptimal],[values1[0],values2[0],values3[0],optimalValues[0]]):\n",
    "    print(\"Estimation with Monte Carlo: \",mcMean,\" and computation with policy evaluation: \",vMean, \" error: \",abs(mcMean-vMean))"
   ]
  },
  {
   "cell_type": "markdown",
   "metadata": {},
   "source": [
    "If we compare the mean found with Monte-Carlo to the value function for the state 0, we find that there are indeed very close. This is also what the theory predicts, which is always a good sign!"
   ]
  }
 ],
 "metadata": {
  "kernelspec": {
   "display_name": "Python 3",
   "language": "python",
   "name": "python3"
  },
  "language_info": {
   "codemirror_mode": {
    "name": "ipython",
    "version": 3
   },
   "file_extension": ".py",
   "mimetype": "text/x-python",
   "name": "python",
   "nbconvert_exporter": "python",
   "pygments_lexer": "ipython3",
   "version": "3.10.12"
  }
 },
 "nbformat": 4,
 "nbformat_minor": 2
}
